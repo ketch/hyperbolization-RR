{
 "cells": [
  {
   "cell_type": "markdown",
   "id": "9f90e616",
   "metadata": {},
   "source": [
    "# Camassa-Holm hyperbolization "
   ]
  },
  {
   "cell_type": "code",
   "execution_count": null,
   "id": "15152416",
   "metadata": {},
   "outputs": [],
   "source": [
    "import numpy as np\n",
    "from nodepy import rk\n",
    "%matplotlib inline\n",
    "import matplotlib\n",
    "import matplotlib.pyplot as plt\n",
    "import matplotlib.animation\n",
    "from IPython.display import HTML\n",
    "font = {'size'   : 15}\n",
    "matplotlib.rc('font', **font)\n",
    "\n",
    "from IPython.display import clear_output\n",
    "from time import time\n",
    "\n",
    "fft = np.fft.fft\n",
    "ifft = np.fft.ifft"
   ]
  },
  {
   "cell_type": "code",
   "execution_count": null,
   "id": "21c29610",
   "metadata": {},
   "outputs": [],
   "source": [
    "# Third order SSPRK(3,3) method \n",
    "ssp33 = rk.loadRKM('SSP33').__num__()"
   ]
  },
  {
   "cell_type": "code",
   "execution_count": null,
   "id": "176f6b39",
   "metadata": {},
   "outputs": [],
   "source": [
    "# Initial condition\n",
    "def IC(x):\n",
    "    u = (np.pi/2)*np.exp(x) - 2*np.sinh(x)*np.arctan(np.exp(x)) - 1\n",
    "    u[x > 20] = 0  \n",
    "    return u"
   ]
  },
  {
   "cell_type": "markdown",
   "id": "499db20d",
   "metadata": {},
   "source": [
    "## Solution of the original CH equation "
   ]
  },
  {
   "cell_type": "code",
   "execution_count": null,
   "id": "7a41e9d8",
   "metadata": {},
   "outputs": [],
   "source": [
    "\n",
    "# Right hand side function of the CH equation: This is a direct semidiscretization of the CH equation\n",
    "def CH_rhs(u, xi, filtr):\n",
    "    u_t = np.zeros_like(u); S = 1/(1-(1j*xi)**2)\n",
    "    \n",
    "    u_t = -3*np.real(ifft(S*fft(u*np.real(ifft(1j*xi*fft(u)))))) + \\\n",
    "          2*np.real(ifft(S*fft(np.real(ifft(1j*xi*fft(u)))*np.real(ifft((1j*xi)**2*fft(u)))))) + \\\n",
    "          np.real(ifft(S*fft(u*np.real(ifft((1j*xi)**3*fft(u))))))\n",
    "    \n",
    "    return u_t\n",
    "\n",
    "# Time stepping method for the CH equation\n",
    "def CH_ERK(u,xi,rhs,rkm,dt,filtr):\n",
    "    s = len(rkm)\n",
    "    g = np.zeros((s,len(u))) \n",
    "    R = np.zeros((s,len(u))) \n",
    "    for i in range(s):\n",
    "        g[i,:] = u.copy()\n",
    "        for j in range(i):\n",
    "            g[i,:] += dt*rkm.A[i,j]*R[j,:]\n",
    "        R[i,:] = rhs(g[i,:],xi,filtr)\n",
    "        inc = sum([rkm.b[i]*R[i] for i in range(s)]) \n",
    "        \n",
    "    u_new = u+dt*inc\n",
    "    \n",
    "    return u_new\n",
    "\n",
    "# This function returns the solution at the final time\n",
    "def CH_Sol(rhs,xL,xR,m,t0,u0,tmax,ERK_fun,rkm):\n",
    "    \n",
    "    L = xR-xL \n",
    "    xplot = np.linspace(xL, xR, m+1)\n",
    "    x = xplot[0:-1]; dx = x[1] - x[0]\n",
    "    xi = np.fft.fftfreq(m)*m*2*np.pi/L\n",
    "    \n",
    "    # Initial state vector \n",
    "    u = u0(x);\n",
    "    \n",
    "    # Time step based on stability\n",
    "    dt = 1.73/((m/2)**2)\n",
    "    t = t0\n",
    "    \n",
    "    # Use 2/3 filter to avoid aliasing instability \n",
    "    filtr = np.ones_like(xi)\n",
    "    use_filter = True\n",
    "    if use_filter:\n",
    "        xi_max = np.max(np.abs(xi))\n",
    "        filtr[np.where(np.abs(xi)>xi_max*2./3)] = 0.\n",
    "\n",
    "    # time loop\n",
    "    t_start = time()\n",
    "    while t < tmax and not np.isclose(t, tmax):\n",
    "        clear_output(wait=True)\n",
    "        if t + dt > tmax:\n",
    "            dt = tmax - t\n",
    "\n",
    "        u_new = ERK_fun(u,xi,rhs,rkm,dt,filtr)\n",
    "        u = u_new.copy();  t+= dt\n",
    "        print(\"t = %.2e\"%(t))\n",
    "    \n",
    "    u_final = u; t_final = t\n",
    "    \n",
    "    t_end = time()\n",
    "    req_t = t_end-t_start  \n",
    "    \n",
    "    return req_t, u_final, x, t_final"
   ]
  },
  {
   "cell_type": "code",
   "execution_count": null,
   "id": "ca35c1dd",
   "metadata": {
    "scrolled": true
   },
   "outputs": [],
   "source": [
    "# Compute solution \n",
    "xL = -10; xR = 50; t0 = 0; u0 = IC; tmax = 10; m = 512\n",
    "rhs = CH_rhs; ERK_fun = CH_ERK; rkm = ssp33\n",
    "\n",
    "req_t_ref, u_ref, x_ref, t_ref = CH_Sol(rhs,xL,xR,m,t0,u0,tmax,ERK_fun,rkm)"
   ]
  },
  {
   "cell_type": "markdown",
   "id": "c5b15f37",
   "metadata": {},
   "source": [
    "## Solution of the hyperbolized CH equation"
   ]
  },
  {
   "cell_type": "code",
   "execution_count": null,
   "id": "0f9ac5f6",
   "metadata": {},
   "outputs": [],
   "source": [
    "# Initial condition for the hyperbolized Camassa Holm system\n",
    "def Hyp_CH_q0(xL,xR,x,t0):   \n",
    "    m = len(x); dx = x[1] - x[0]; L = xR - xL\n",
    "    xi = np.fft.fftfreq(m)*m*2*np.pi/L\n",
    "    q = np.zeros((3,len(x)))\n",
    "    q[0,:] = IC(x)\n",
    "    \n",
    "    # Initial conditions for derivatives v and w from the \n",
    "    # function values u using spectral differentiation \n",
    "    q[1,:] = np.real(ifft( 1j*xi*fft(q[0,:]) ))\n",
    "    q[2,:] = np.real(ifft( (1j*xi)**2*fft(q[0,:]) ))\n",
    "        \n",
    "    \n",
    "    return q\n",
    "\n",
    "# Right hand side function of the hyperbolized CH system\n",
    "def Hyp_CH_rhs(q, xi, c1, c2,filtr):\n",
    "    q_t = np.zeros_like(q)\n",
    "    u = q[0,:]; v = q[1,:]; w = q[2,:]\n",
    "    \n",
    "    # RHS 2\n",
    "    q_t[0,:] = -3*u*np.real( ifft( 1j*xi*fft(u)*filtr ) ) - c2*(np.real( ifft( 1j*xi*fft(u) ) ) - v) + 2*np.real( ifft(1j*xi*fft(u)*filtr ) )*w + u*np.real( ifft( 1j*xi*fft(w)*filtr ) ) \n",
    "    q_t[1,:] = -c1*(np.real( ifft( 1j*xi*fft(v) ) ) - w)\n",
    "    q_t[2,:] = -c2*(np.real( ifft( 1j*xi*fft(u) ) ) -v)\n",
    "\n",
    "\n",
    "    return q_t\n",
    "\n",
    "# Time stepping method for the hyperbolized system\n",
    "def Hyp_CH_ERK(q,xi,c1,c2,rhs,rkm,dt,filtr):\n",
    "    s = len(rkm)\n",
    "    g = np.zeros((s, *q.shape)) \n",
    "    R = np.zeros((s, *q.shape)) \n",
    "    for i in range(s):\n",
    "        g[i,:] = q.copy()\n",
    "        for j in range(i):\n",
    "            g[i,:] += dt*rkm.A[i,j]*R[j,:]\n",
    "        R[i,:] = rhs(g[i,:],xi, c1, c2,filtr)\n",
    "        inc = sum([rkm.b[i]*R[i] for i in range(s)]) \n",
    "        \n",
    "    q_new = q+dt*inc\n",
    "    \n",
    "    \n",
    "    return q_new\n",
    "\n",
    "# This function returns the solution at the final time. \n",
    "def Hyp_CH_Sol(rhs,xL,xR,m,t0,q0,tmax,c1,c2,ERK_fun,rkm):\n",
    "    \n",
    "    L = xR-xL # Length of the domain\n",
    "    xplot = np.linspace(xL, xR, m+1)\n",
    "    x = xplot[0:-1]; dx = x[1] - x[0]\n",
    "    xi = np.fft.fftfreq(m)*m*2*np.pi/L\n",
    "    \n",
    "    # Initial state vector \n",
    "    q = q0(xL,xR,x,t0)\n",
    "    \n",
    "    # Time step based on the CFL number\n",
    "    u_max = np.max(np.abs(q[0,:]))\n",
    "    s_max = max(np.abs(c1),np.abs(0.5*(3*u_max+c2+np.sqrt((3*u_max+c2)**2-4*u_max*c2))) )\n",
    "    print('Maximum speed = %1.2f'%s_max)\n",
    "    #dt = (mu*dx)/s_max with CFL number = mu and s_max = maximum speed\n",
    "    mu = 0.173; dt = mu*dx/s_max\n",
    "    print('CFL based time step = %1.2e'%dt)\n",
    "\n",
    "    t = t0\n",
    "    \n",
    "    # use 2/3 filter to avoid aliasing instability \n",
    "    filtr = np.ones_like(xi)\n",
    "    use_filter = True\n",
    "    if use_filter:\n",
    "        xi_max = np.max(np.abs(xi))\n",
    "        filtr[np.where(np.abs(xi)>xi_max*2./3)] = 0.\n",
    "    \n",
    "    while t < tmax and not np.isclose(t, tmax):\n",
    "        clear_output(wait=True)\n",
    "        if t + dt > tmax:\n",
    "            dt = tmax - t\n",
    "\n",
    "        q_new = ERK_fun(q,xi,c1,c2,rhs,rkm,dt,filtr)\n",
    "        q = q_new.copy();  t+= dt\n",
    "        #print(\"m = %d, c1 = %d, c2 = %d, t = %.2f\"%(m, c1, c2, t))\n",
    "    \n",
    "    q_final = q; t_final = t\n",
    "    \n",
    "    return q_final, x, t_final"
   ]
  },
  {
   "cell_type": "code",
   "execution_count": null,
   "id": "d0f4400e",
   "metadata": {},
   "outputs": [],
   "source": [
    "# Compute solution \n",
    "C_1 = np.array([25, 50,100]); C_2 = - C_1\n",
    "\n",
    "q0 = Hyp_CH_q0; rhs = Hyp_CH_rhs; ERK_fun = Hyp_CH_ERK; rkm = ssp33"
   ]
  },
  {
   "cell_type": "code",
   "execution_count": null,
   "id": "7933c0fc",
   "metadata": {},
   "outputs": [],
   "source": [
    "c1 = C_1[0]; c2 = C_2[0];\n",
    "c1_1st_q_f, x, t_f = Hyp_CH_Sol(rhs,xL,xR,m,t0,q0,tmax,c1,c2,ERK_fun,rkm)"
   ]
  },
  {
   "cell_type": "code",
   "execution_count": null,
   "id": "7ac120ed",
   "metadata": {},
   "outputs": [],
   "source": [
    "c1 = C_1[1]; c2 = C_2[1];\n",
    "c1_2nd_q_f, x, t_f = Hyp_CH_Sol(rhs,xL,xR,m,t0,q0,tmax,c1,c2,ERK_fun,rkm)"
   ]
  },
  {
   "cell_type": "code",
   "execution_count": null,
   "id": "713cf22e",
   "metadata": {},
   "outputs": [],
   "source": [
    "c1 = C_1[2]; c2 = C_2[2];\n",
    "c1_3rd_q_f, x, t_f = Hyp_CH_Sol(rhs,xL,xR,m,t0,q0,tmax,c1,c2,ERK_fun,rkm)"
   ]
  },
  {
   "cell_type": "markdown",
   "id": "f8705a3e",
   "metadata": {},
   "source": [
    "## Plot solution"
   ]
  },
  {
   "cell_type": "code",
   "execution_count": null,
   "id": "1a4a2e8e",
   "metadata": {},
   "outputs": [],
   "source": [
    "L = xR - xL; xi = np.fft.fftfreq(m)*m*2*np.pi/L\n",
    "\n",
    "def spectral_representation(x0,uhat):\n",
    "    u_fun = lambda y : np.real(np.sum(uhat*np.exp(1j*xi*(y-x0))))/len(uhat)\n",
    "    u_fun = np.vectorize(u_fun)\n",
    "    return u_fun\n",
    "\n",
    "c1_1st_spectral = spectral_representation(xL,fft(c1_1st_q_f[0,:]))\n",
    "c1_2nd_spectral = spectral_representation(xL,fft(c1_2nd_q_f[0,:])) \n",
    "c1_3rd_spectral = spectral_representation(xL,fft(c1_3rd_q_f[0,:])) \n",
    "CH_ref_spectral = spectral_representation(xL,fft(u_ref)) "
   ]
  },
  {
   "cell_type": "code",
   "execution_count": null,
   "id": "2f34d855",
   "metadata": {},
   "outputs": [],
   "source": [
    "x_fine = np.linspace(x[0],x[-1],2000)\n",
    "\n",
    "plt.figure(figsize=(8, 5))\n",
    "plt.plot(x,IC(x),':k',label = 'u(x,0)')\n",
    "plt.plot(x_fine,CH_ref_spectral(x_fine),'-k',label = 'CH')\n",
    "plt.plot(x_fine,c1_1st_spectral(x_fine),label = r'$\\tau^{-1}$ = %d'%C_1[0])\n",
    "plt.plot(x_fine,c1_2nd_spectral(x_fine),label = r'$\\tau^{-1}$ = %d'%C_1[1])\n",
    "plt.plot(x_fine,c1_3rd_spectral(x_fine),label = r'$\\tau^{-1}$ = %d'%C_1[2])\n",
    "plt.title('$t$ = %d'%tmax)\n",
    "plt.xlabel(\"x\", labelpad=-10)\n",
    "plt.ylabel(\"u\", rotation=0)\n",
    "plt.xlim(-10, 15)\n",
    "plt.grid()\n",
    "plt.legend()\n",
    "plt.savefig(\"Hyp_CH_Sol_Comp.pdf\")"
   ]
  },
  {
   "cell_type": "code",
   "execution_count": null,
   "id": "ae10d519",
   "metadata": {},
   "outputs": [],
   "source": []
  }
 ],
 "metadata": {
  "kernelspec": {
   "display_name": "Python 3 (ipykernel)",
   "language": "python",
   "name": "python3"
  },
  "language_info": {
   "codemirror_mode": {
    "name": "ipython",
    "version": 3
   },
   "file_extension": ".py",
   "mimetype": "text/x-python",
   "name": "python",
   "nbconvert_exporter": "python",
   "pygments_lexer": "ipython3",
   "version": "3.11.4"
  }
 },
 "nbformat": 4,
 "nbformat_minor": 5
}
