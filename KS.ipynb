{
 "cells": [
  {
   "cell_type": "markdown",
   "id": "7ee7b378",
   "metadata": {},
   "source": [
    "# Kuramoto-Sivashinsky hyperbolization "
   ]
  },
  {
   "cell_type": "code",
   "execution_count": null,
   "id": "bfec1087",
   "metadata": {},
   "outputs": [],
   "source": [
    "import numpy as np\n",
    "from nodepy import rk\n",
    "%matplotlib inline\n",
    "import matplotlib\n",
    "import matplotlib.pyplot as plt\n",
    "import matplotlib.animation\n",
    "from matplotlib.pyplot import cm\n",
    "from IPython.display import HTML\n",
    "font = {'size'   : 15}\n",
    "matplotlib.rc('font', **font)\n",
    "\n",
    "from IPython.display import clear_output\n",
    "from time import time\n",
    "\n",
    "fft = np.fft.fft\n",
    "ifft = np.fft.ifft"
   ]
  },
  {
   "cell_type": "code",
   "execution_count": null,
   "id": "1d7e904f",
   "metadata": {},
   "outputs": [],
   "source": [
    "# Third order SSPRK(3,3) method \n",
    "ssp33 = rk.loadRKM('SSP33').__num__()\n",
    "\n",
    "# Fourth order RK(4,4) method \n",
    "rk4 = rk.loadRKM('RK44').__num__()\n",
    "\n",
    "# 4th order ImEx method\n",
    "rkex = np.array([ [0, 0, 0, 0, 0, 0],\n",
    "          [1/2, 0, 0, 0, 0, 0],\n",
    "          [13861/62500, 6889/62500, 0, 0, 0, 0], \n",
    "          [-116923316275/2393684061468, -2731218467317/15368042101831, 9408046702089/11113171139209, 0, 0, 0], \n",
    "          [-451086348788/2902428689909, -2682348792572/7519795681897, 12662868775082/11960479115383, 3355817975965/11060851509271, 0, 0], \n",
    "          [647845179188/3216320057751, 73281519250/8382639484533, 552539513391/3454668386233, 3354512671639/8306763924573, 4040/17871, 0] \n",
    "        ])\n",
    "\n",
    "rkim = np.array([ [0, 0, 0, 0, 0, 0],\n",
    "                  [1/4, 1/4, 0, 0, 0, 0],\n",
    "                  [8611/62500, -1743/31250, 1/4, 0, 0, 0],\n",
    "                  [5012029/34652500, -654441/2922500, 174375/388108, 1/4, 0, 0],\n",
    "                  [15267082809/155376265600, -71443401/120774400, 730878875/902184768, 2285395/8070912, 1/4, 0],\n",
    "                  [82889/524892, 0, 15625/83664, 69875/102672, -2260/8211, 1/4]\n",
    "                ])\n",
    "\n",
    "c = np.array([0, 1/2, 83/250, 31/50, 17/20, 1])\n",
    "b = np.array([82889/524892, 0, 15625/83664, 69875/102672, -2260/8211, 1/4])\n",
    "bhat = np.array([4586570599/29645900160, 0, 178811875/945068544, 814220225/1159782912, -3700637/11593932, 61727/225920])"
   ]
  },
  {
   "cell_type": "code",
   "execution_count": null,
   "id": "094f7a5d",
   "metadata": {},
   "outputs": [],
   "source": [
    "# Initial condition\n",
    "def IC(x):\n",
    "    u = np.exp(-1*x**2)\n",
    "    return u"
   ]
  },
  {
   "cell_type": "markdown",
   "id": "6d44411d",
   "metadata": {},
   "source": [
    "## Solution of the original KS  equation"
   ]
  },
  {
   "cell_type": "code",
   "execution_count": null,
   "id": "eff30ce7",
   "metadata": {},
   "outputs": [],
   "source": [
    "def KSE_stiff_rhs(xi,u): # stiff right part of the hand side\n",
    "    uhat = fft(u)\n",
    "    return np.real(ifft((xi**2-xi**4)*uhat))\n",
    "\n",
    "def KSE_non_stiff_rhs(xi,u): # non-stiff part of right hand side \n",
    "    uhat = fft(u)\n",
    "    return -u*np.real(ifft(1j*xi*uhat))"
   ]
  },
  {
   "cell_type": "code",
   "execution_count": null,
   "id": "e9f7f22f",
   "metadata": {},
   "outputs": [],
   "source": [
    "def KS_Sol(rkim, rkex, c, b, bhat, f_stiff, f_non_stiff, u0, xL, xR, N, dt, t0, tmax): \n",
    "    \n",
    "    xplot = np.linspace(xL, xR, N+1); x = xplot[0:-1]; dx = x[1] - x[0]\n",
    "    L = xR- xL; xi = np.fft.fftfreq(N) * N * 2*np.pi / L\n",
    "    \n",
    "    tt = np.zeros(1); t = t0; tt[0] = t; u_in = u0(x)\n",
    "\n",
    "    uu = np.zeros((1,np.size(u_in))); uu[0,:] = u_in.copy()\n",
    "    \n",
    "    s = len(rkim); Rim = np.zeros((s,len(u_in))); Rex = np.zeros((s,len(u_in)))\n",
    "    \n",
    "    # time loop\n",
    "    while t < tmax and not np.isclose(t, tmax):\n",
    "        clear_output(wait=True)\n",
    "        if t + dt > tmax:\n",
    "            dt = tmax - t\n",
    "        for i in range(s):\n",
    "            rhs = uu[-1].copy()\n",
    "            if i>0:\n",
    "                for j in range(i):\n",
    "                    rhs += dt*(rkim[i,j]*Rim[j,:] + rkex[i,j]*Rex[j,:])\n",
    "                                \n",
    "            # solving stages \n",
    "            Coeff =1/(1 - dt*rkim[i,i]*(xi**2-xi**4))\n",
    "            g_j = np.real(np.fft.ifft(Coeff*np.fft.fft(rhs)))\n",
    "            \n",
    "            Rim[i,:] = f_stiff(xi,g_j)\n",
    "            Rex[i,:] = f_non_stiff(xi,g_j)\n",
    "\n",
    "        inc = dt*sum([ b[j]*(Rim[j]+Rex[j]) for j in range(s)])    \n",
    "        unew = uu[-1]+inc; t+= dt\n",
    "        tt = np.append(tt, t)\n",
    "        uu = np.append(uu, np.reshape(unew.copy(), (1,len(unew))), axis=0)  \n",
    "        \n",
    "        print(\"Time = %1.2f)\"%(tt[-1]))\n",
    "        \n",
    "    return x, tt, uu"
   ]
  },
  {
   "cell_type": "markdown",
   "id": "e02737bb",
   "metadata": {},
   "source": [
    "## Solution of the approximate KSH equation"
   ]
  },
  {
   "cell_type": "code",
   "execution_count": null,
   "id": "07d0408c",
   "metadata": {},
   "outputs": [],
   "source": [
    "# Initial condition for the hyperbolized KS system\n",
    "def Hyp_KS_q0(xL,xR,x,t0):   \n",
    "    m = len(x); dx = x[1] - x[0]; L = xR - xL\n",
    "    xi = np.fft.fftfreq(m)*m*2*np.pi/L\n",
    "    q = np.zeros((4,len(x)))\n",
    "    q[0,:] = IC(x)\n",
    "    \n",
    "    # Initial conditions for derivatives v, w, and z from the \n",
    "    # function values u using spectral differentiation \n",
    "    q[1,:] = np.real(ifft( 1j*xi*fft(q[0,:]) ))\n",
    "    q[2,:] = np.real(ifft( (1j*xi)**2*fft(q[0,:]) ))\n",
    "    q[3,:] = np.real(ifft( (1j*xi)**3*fft(q[0,:]) ))\n",
    "    \n",
    "    return q\n",
    "\n",
    "# Right hand side function of the hyperbolized KS system\n",
    "def Hyp_KS_rhs(q, xi, c1, c2, c3, filtr):\n",
    "    q_t = np.zeros_like(q)\n",
    "    u = q[0,:]; v = q[1,:]; w = q[2,:]; z = q[3,:]\n",
    "    \n",
    "    # RHS 2\n",
    "    q_t[0,:] = -u*np.real( ifft( 1j*xi*fft(u)*filtr ) ) - np.real( ifft( 1j*xi*fft(v) ) ) - np.real( ifft( 1j*xi*fft(z) ) )\n",
    "    q_t[1,:] = c1*(np.real( ifft( 1j*xi*fft(w) ) ) - z)\n",
    "    q_t[2,:] = c2*(np.real( ifft( 1j*xi*fft(v) ) ) -w)\n",
    "    q_t[3,:] = -c3*(np.real( ifft( 1j*xi*fft(u) ) ) -v)\n",
    "    \n",
    "    return q_t\n",
    "\n",
    "# Time stepping method for the hyperbolized system\n",
    "def Hyp_KS_ERK(q,xi,c1,c2,c3,rhs,rkm,dt,filtr):\n",
    "    s = len(rkm)\n",
    "    g = np.zeros((s, *q.shape)) \n",
    "    R = np.zeros((s, *q.shape)) \n",
    "    for i in range(s):\n",
    "        g[i,:] = q.copy()\n",
    "        for j in range(i):\n",
    "            g[i,:] += dt*rkm.A[i,j]*R[j,:]\n",
    "        R[i,:] = rhs(g[i,:],xi, c1, c2, c3, filtr)\n",
    "        inc = sum([rkm.b[i]*R[i] for i in range(s)]) \n",
    "        \n",
    "    q_new = q+dt*inc\n",
    "    \n",
    "    return q_new"
   ]
  },
  {
   "cell_type": "code",
   "execution_count": null,
   "id": "33833f27",
   "metadata": {},
   "outputs": [],
   "source": [
    "def Hyp_KS_Sol(rhs,xL,xR,m,t0,q0,tmax,c1,c2,c3,ERK_fun,rkm):\n",
    "    \n",
    "    L = xR-xL # Length of the domain\n",
    "    xplot = np.linspace(xL, xR, m+1)\n",
    "    x = xplot[0:-1]; dx = x[1] - x[0]\n",
    "    xi = np.fft.fftfreq(m)*m*2*np.pi/L\n",
    "    \n",
    "    # Initial state vector \n",
    "    q = q0(xL,xR,x,t0)\n",
    "    \n",
    "    tt = np.zeros(1); t = t0; tt[0] = t\n",
    "    uu = np.zeros((1,np.size(q[0,:]))); uu[0,:] = q[0,:].copy()\n",
    "    \n",
    "    \n",
    "    # Time step based on the CFL number\n",
    "    u_max = np.max(np.abs(q[0,:]))\n",
    "    s_max = max(c1,c2,0.5*(u_max+np.sqrt(u_max**2+4*c3)))\n",
    "    print('Maximum speed = %1.2f'%s_max)\n",
    "    #dt = (mu*dx)/s_max with CFL number = mu and s_max = maximum speed\n",
    "    mu = 0.8; dt = mu*dx/s_max\n",
    "    \n",
    "    # use 2/3 filter to avoid aliasing instability \n",
    "    filtr = np.ones_like(xi)\n",
    "    use_filter = True\n",
    "    if use_filter:\n",
    "        xi_max = np.max(np.abs(xi))\n",
    "        filtr[np.where(np.abs(xi)>xi_max*2./3)] = 0.\n",
    "    \n",
    "    while t < tmax and not np.isclose(t, tmax):\n",
    "        clear_output(wait=True)\n",
    "        if t + dt > tmax:\n",
    "            dt = tmax - t\n",
    "\n",
    "        q_new = ERK_fun(q,xi,c1,c2,c3,rhs,rkm,dt,filtr)\n",
    "        q = q_new.copy();  t+= dt\n",
    "        \n",
    "        tt = np.append(tt, t)\n",
    "        uu = np.append(uu, np.reshape(q_new[0,:].copy(), (1,len(q_new[0,:]))), axis=0)  \n",
    "        \n",
    "        print(\"m = %d, t = %.2f\"%(m, t))\n",
    "    \n",
    "    \n",
    "    return x, tt, uu"
   ]
  },
  {
   "cell_type": "code",
   "execution_count": null,
   "id": "6f180385",
   "metadata": {},
   "outputs": [],
   "source": [
    "# Numerical solution\n",
    "xL = -20*np.pi; xR = 20*np.pi; t0 = 0; tmax = 50"
   ]
  },
  {
   "cell_type": "code",
   "execution_count": null,
   "id": "77195ef7",
   "metadata": {},
   "outputs": [],
   "source": [
    "q0 = Hyp_KS_q0; m = 256; rhs = Hyp_KS_rhs; ERK_fun = Hyp_KS_ERK; rkm = rk4;"
   ]
  },
  {
   "cell_type": "markdown",
   "id": "8f36ab8a",
   "metadata": {},
   "source": [
    "## KSH with $\\tau^{-1} = 50$"
   ]
  },
  {
   "cell_type": "code",
   "execution_count": null,
   "id": "b48cc24e",
   "metadata": {},
   "outputs": [],
   "source": [
    "%%time\n",
    "c1 = 50; \n",
    "x_KSH_1, tt_KSH_1, uu_KSH_1 = Hyp_KS_Sol(rhs,xL,xR,m,t0,q0,tmax,c1,c1,c1,ERK_fun,rkm)"
   ]
  },
  {
   "cell_type": "code",
   "execution_count": null,
   "id": "7d99bd92",
   "metadata": {},
   "outputs": [],
   "source": [
    "%%time\n",
    "dt = tt_KSH_1[1] - tt_KSH_1[0]; \n",
    "f_stiff = KSE_stiff_rhs; f_non_stiff = KSE_non_stiff_rhs; u0 = IC; \n",
    "x_KS_1, tt_KS_1, uu_KS_1 = KS_Sol(rkim, rkex, c, b, bhat, f_stiff, f_non_stiff, u0, xL, xR, m, dt, t0, tmax)"
   ]
  },
  {
   "cell_type": "code",
   "execution_count": null,
   "id": "d954f98b",
   "metadata": {},
   "outputs": [],
   "source": [
    "XX_KS_1, TT_KS_1 = np.meshgrid(x_KS_1, tt_KS_1)\n",
    "XX_KSH_1, TT_KSH_1 = np.meshgrid(x_KSH_1, tt_KSH_1)"
   ]
  },
  {
   "cell_type": "code",
   "execution_count": null,
   "id": "1a39bcae",
   "metadata": {},
   "outputs": [],
   "source": [
    "vmin = -1.5 # Minimum value for the color scale\n",
    "vmax = 1.5 # Maximum value for the color scale"
   ]
  },
  {
   "cell_type": "code",
   "execution_count": null,
   "id": "e0029c46",
   "metadata": {},
   "outputs": [],
   "source": [
    "plt.rcParams.update({'font.size': 25})\n",
    "fig, ax = plt.subplots(figsize=(9,6))\n",
    "skip1 = round(len(TT_KSH_1)/1000)\n",
    "# Plot \n",
    "cs1 = ax.pcolor(XX_KSH_1[::skip1,:], TT_KSH_1[::skip1,:], (uu_KS_1[::skip1,:]-uu_KSH_1[::skip1,:]), cmap=cm.RdBu, vmin=vmin, vmax=vmax)\n",
    "fig.colorbar(cs1)\n",
    "ax.set_xlabel(\"x\", labelpad=-5)\n",
    "ax.set_ylabel(\"t\", rotation=0)\n",
    "ax.set_title(r\"KSH: $\\tau^{-1}$= %d\" % (c1))\n",
    "plt.savefig(\"Hyp_KS_Err_%d.pdf\" % (c1), dpi = 100)"
   ]
  },
  {
   "cell_type": "markdown",
   "id": "c5c15883",
   "metadata": {},
   "source": [
    "## KSH with $\\tau^{-1} = 100$"
   ]
  },
  {
   "cell_type": "code",
   "execution_count": null,
   "id": "9a6095aa",
   "metadata": {},
   "outputs": [],
   "source": [
    "%%time\n",
    "c2 = 100;\n",
    "x_KSH_2, tt_KSH_2, uu_KSH_2 = Hyp_KS_Sol(rhs,xL,xR,m,t0,q0,tmax,c2,c2,c2,ERK_fun,rkm)"
   ]
  },
  {
   "cell_type": "code",
   "execution_count": null,
   "id": "5379e803",
   "metadata": {},
   "outputs": [],
   "source": [
    "%%time\n",
    "dt = tt_KSH_2[1] - tt_KSH_2[0]; \n",
    "f_stiff = KSE_stiff_rhs; f_non_stiff = KSE_non_stiff_rhs; u0 = IC; \n",
    "x_KS_2, tt_KS_2, uu_KS_2 = KS_Sol(rkim, rkex, c, b, bhat, f_stiff, f_non_stiff, u0, xL, xR, m, dt, t0, tmax)"
   ]
  },
  {
   "cell_type": "code",
   "execution_count": null,
   "id": "4a4eeee0",
   "metadata": {},
   "outputs": [],
   "source": [
    "XX_KS_2, TT_KS_2 = np.meshgrid(x_KS_2, tt_KS_2)\n",
    "XX_KSH_2, TT_KSH_2 = np.meshgrid(x_KSH_2, tt_KSH_2)"
   ]
  },
  {
   "cell_type": "code",
   "execution_count": null,
   "id": "1d3dc375",
   "metadata": {},
   "outputs": [],
   "source": [
    "plt.rcParams.update({'font.size': 25})\n",
    "fig, ax = plt.subplots(figsize=(9,6))\n",
    "skip2 = round(len(TT_KSH_2)/1000)\n",
    "# Plot \n",
    "cs2 = ax.pcolor(XX_KSH_2[::skip2,:], TT_KSH_2[::skip2,:], (uu_KS_2[::skip2,:]-uu_KSH_2[::skip2,:]), cmap=cm.RdBu, vmin=vmin, vmax=vmax)\n",
    "fig.colorbar(cs2)\n",
    "ax.set_xlabel(\"x\", labelpad=-5)\n",
    "ax.set_ylabel(\"t\", rotation=0)\n",
    "ax.set_title(r\"KSH: $\\tau^{-1}$= %d\" % (c2))\n",
    "plt.savefig(\"Hyp_KS_Err_%d.pdf\" % (c2), dpi = 100)"
   ]
  },
  {
   "cell_type": "markdown",
   "id": "3c3108bb",
   "metadata": {},
   "source": [
    "## KSH with $\\tau^{-1} = 400$"
   ]
  },
  {
   "cell_type": "code",
   "execution_count": null,
   "id": "b32a0c38",
   "metadata": {},
   "outputs": [],
   "source": [
    "%%time\n",
    "c3 = 400; \n",
    "x_KSH_3, tt_KSH_3, uu_KSH_3 = Hyp_KS_Sol(rhs,xL,xR,m,t0,q0,tmax,c3,c3,c3,ERK_fun,rkm)"
   ]
  },
  {
   "cell_type": "code",
   "execution_count": null,
   "id": "dd3a385e",
   "metadata": {},
   "outputs": [],
   "source": [
    "%%time\n",
    "dt = tt_KSH_3[1] - tt_KSH_3[0]; \n",
    "f_stiff = KSE_stiff_rhs; f_non_stiff = KSE_non_stiff_rhs; u0 = IC; \n",
    "x_KS_3, tt_KS_3, uu_KS_3 = KS_Sol(rkim, rkex, c, b, bhat, f_stiff, f_non_stiff, u0, xL, xR, m, dt, t0, tmax)"
   ]
  },
  {
   "cell_type": "code",
   "execution_count": null,
   "id": "415072ce",
   "metadata": {},
   "outputs": [],
   "source": [
    "XX_KS_3, TT_KS_3 = np.meshgrid(x_KS_3, tt_KS_3)\n",
    "XX_KSH_3, TT_KSH_3 = np.meshgrid(x_KSH_3, tt_KSH_3)"
   ]
  },
  {
   "cell_type": "code",
   "execution_count": null,
   "id": "6681f3a9",
   "metadata": {},
   "outputs": [],
   "source": [
    "plt.rcParams.update({'font.size': 25})\n",
    "fig, ax = plt.subplots(figsize=(9,6))\n",
    "skip3 = round(len(TT_KSH_3)/1000)\n",
    "# Plot \n",
    "cs3 = ax.pcolor(XX_KSH_3[::skip3,:], TT_KSH_3[::skip3,:], (uu_KS_3[::skip3,:]-uu_KSH_3[::skip3,:]), cmap=cm.RdBu, vmin=vmin, vmax=vmax)\n",
    "fig.colorbar(cs3)\n",
    "ax.set_xlabel(\"x\", labelpad=-5)\n",
    "ax.set_ylabel(\"t\", rotation=0)\n",
    "ax.set_title(r\"KSH: $\\tau^{-1}$= %d\" % (c3))\n",
    "plt.savefig(\"Hyp_KS_Err_%d.pdf\" % (c3), dpi = 100)"
   ]
  },
  {
   "cell_type": "markdown",
   "id": "0c6a8245",
   "metadata": {},
   "source": [
    "## Solution plot "
   ]
  },
  {
   "cell_type": "code",
   "execution_count": null,
   "id": "aa045214",
   "metadata": {},
   "outputs": [],
   "source": [
    "L = xR - xL; xi = np.fft.fftfreq(m)*m*2*np.pi/L\n",
    "\n",
    "def spectral_representation(x0,uhat):\n",
    "    u_fun = lambda y : np.real(np.sum(uhat*np.exp(1j*xi*(y-x0))))/len(uhat)\n",
    "    u_fun = np.vectorize(u_fun)\n",
    "    return u_fun\n",
    "\n",
    "c1_1st_spectral = spectral_representation(xL,fft(uu_KSH_1[-1,:]))\n",
    "c1_2nd_spectral = spectral_representation(xL,fft(uu_KSH_2[-1,:])) \n",
    "c1_3rd_spectral = spectral_representation(xL,fft(uu_KSH_3[-1,:])) \n",
    "KS_ref_spectral = spectral_representation(xL,fft(uu_KS_3[-1,:])) "
   ]
  },
  {
   "cell_type": "code",
   "execution_count": null,
   "id": "6c3c65d3",
   "metadata": {},
   "outputs": [],
   "source": [
    "# Solution comparison\n",
    "plt.rcParams.update({'font.size': 25})\n",
    "plt.figure(figsize=(9, 6))\n",
    "\n",
    "x_fine = np.linspace(xL,xR,2000)\n",
    "\n",
    "plt.plot(x_fine,KS_ref_spectral(x_fine),'-k', linewidth=2,label = 'KS')\n",
    "plt.plot(x_fine,c1_1st_spectral(x_fine), linewidth=2,label = r'KSH: $\\tau^{-1}$ = %d'%c1)\n",
    "plt.plot(x_fine,c1_2nd_spectral(x_fine), linewidth=2,label = r'KSH: $\\tau^{-1}$ = %d'%c2)\n",
    "plt.plot(x_fine,c1_3rd_spectral(x_fine), linewidth=2,label = r'KSH: $\\tau^{-1}$ = %d'%c3)\n",
    "\n",
    "plt.title('$t$ = %d'%tmax)\n",
    "plt.xlim(-10, 15)\n",
    "plt.xlabel(\"x\", labelpad=-10)\n",
    "plt.ylabel(\"u\", rotation=0)\n",
    "plt.grid()\n",
    "plt.legend(fontsize=15,ncol=2,handleheight=1.7, labelspacing=0.01,loc='lower right')\n",
    "plt.savefig(\"Hyp_KS_Sol_Comp.pdf\")"
   ]
  },
  {
   "cell_type": "markdown",
   "id": "d76c318a",
   "metadata": {},
   "source": [
    "# KS solution"
   ]
  },
  {
   "cell_type": "code",
   "execution_count": null,
   "id": "86b90bf0",
   "metadata": {},
   "outputs": [],
   "source": [
    "f_stiff = KSE_stiff_rhs; f_non_stiff = KSE_non_stiff_rhs; u0 = IC; \n",
    "x_KS, tt_KS, uu_KS= KS_Sol(rkim, rkex, c, b, bhat, f_stiff, f_non_stiff, u0, xL, xR, 1024, 0.01, t0, tmax)"
   ]
  },
  {
   "cell_type": "code",
   "execution_count": null,
   "id": "e581431f",
   "metadata": {},
   "outputs": [],
   "source": [
    "XX_KS, TT_KS = np.meshgrid(x_KS, tt_KS)"
   ]
  },
  {
   "cell_type": "code",
   "execution_count": null,
   "id": "ef0ebcf9",
   "metadata": {},
   "outputs": [],
   "source": [
    "# plot the result\n",
    "skip = round(len(TT_KS)/400)\n",
    "\n",
    "fig, ax = plt.subplots(figsize=(9,6))\n",
    "cs = ax.pcolor(XX_KS[::skip,:], TT_KS[::skip,:], uu_KS[::skip,:], cmap=cm.RdBu)\n",
    "fig.colorbar(cs)\n",
    "\n",
    "ax.set_xlabel(\"x\", labelpad=-5)\n",
    "ax.set_ylabel(\"t\", rotation=0)\n",
    "ax.set_title(\"KS Solution\")\n",
    "plt.savefig(\"KS_Solution.pdf\", dpi = 100)"
   ]
  },
  {
   "cell_type": "code",
   "execution_count": null,
   "id": "9f3be762",
   "metadata": {},
   "outputs": [],
   "source": []
  }
 ],
 "metadata": {
  "kernelspec": {
   "display_name": "Python 3 (ipykernel)",
   "language": "python",
   "name": "python3"
  },
  "language_info": {
   "codemirror_mode": {
    "name": "ipython",
    "version": 3
   },
   "file_extension": ".py",
   "mimetype": "text/x-python",
   "name": "python",
   "nbconvert_exporter": "python",
   "pygments_lexer": "ipython3",
   "version": "3.11.4"
  }
 },
 "nbformat": 4,
 "nbformat_minor": 5
}
